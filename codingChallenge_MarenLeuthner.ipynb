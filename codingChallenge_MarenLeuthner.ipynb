{
 "cells": [
  {
   "cell_type": "markdown",
   "metadata": {},
   "source": [
    "## Coding Challenge - Maren Leuthner"
   ]
  },
  {
   "cell_type": "code",
   "execution_count": 1,
   "metadata": {},
   "outputs": [],
   "source": [
    "import pandas as pd\n",
    "import numpy as np\n",
    "import matplotlib.pyplot as plt\n",
    "import seaborn as sns"
   ]
  },
  {
   "cell_type": "markdown",
   "metadata": {},
   "source": [
    "#### (1) The location of the weather station is contained within the file. Compute the air distance to the Bosch plant located at (48.49524, 9.13782) using a suitable formula."
   ]
  },
  {
   "cell_type": "code",
   "execution_count": 2,
   "metadata": {},
   "outputs": [],
   "source": [
    "# import necessary math and geopy packages/modules\n",
    "from math import sin, cos, sqrt, atan2, radians\n",
    "import geopy.distance"
   ]
  },
  {
   "cell_type": "code",
   "execution_count": 3,
   "metadata": {},
   "outputs": [
    {
     "data": {
      "text/html": [
       "<div>\n",
       "<style scoped>\n",
       "    .dataframe tbody tr th:only-of-type {\n",
       "        vertical-align: middle;\n",
       "    }\n",
       "\n",
       "    .dataframe tbody tr th {\n",
       "        vertical-align: top;\n",
       "    }\n",
       "\n",
       "    .dataframe thead th {\n",
       "        text-align: right;\n",
       "    }\n",
       "</style>\n",
       "<table border=\"1\" class=\"dataframe\">\n",
       "  <thead>\n",
       "    <tr style=\"text-align: right;\">\n",
       "      <th></th>\n",
       "      <th>Stations_id</th>\n",
       "      <th>Stationshoehe</th>\n",
       "      <th>Geogr.Breite</th>\n",
       "      <th>Geogr.Laenge</th>\n",
       "      <th>von_datum</th>\n",
       "      <th>bis_datum</th>\n",
       "      <th>Stationsname</th>\n",
       "    </tr>\n",
       "  </thead>\n",
       "  <tbody>\n",
       "    <tr>\n",
       "      <th>0</th>\n",
       "      <td>3278</td>\n",
       "      <td>350.0</td>\n",
       "      <td>48.5348</td>\n",
       "      <td>9.2889</td>\n",
       "      <td>19240620</td>\n",
       "      <td>19900331</td>\n",
       "      <td>Metzingen</td>\n",
       "    </tr>\n",
       "    <tr>\n",
       "      <th>1</th>\n",
       "      <td>3278</td>\n",
       "      <td>362.0</td>\n",
       "      <td>48.5318</td>\n",
       "      <td>9.2789</td>\n",
       "      <td>19900401</td>\n",
       "      <td>20021231</td>\n",
       "      <td>Metzingen</td>\n",
       "    </tr>\n",
       "    <tr>\n",
       "      <th>2</th>\n",
       "      <td>3278</td>\n",
       "      <td>370.0</td>\n",
       "      <td>48.5301</td>\n",
       "      <td>9.3161</td>\n",
       "      <td>20030101</td>\n",
       "      <td>20080610</td>\n",
       "      <td>Metzingen</td>\n",
       "    </tr>\n",
       "    <tr>\n",
       "      <th>3</th>\n",
       "      <td>3278</td>\n",
       "      <td>354.0</td>\n",
       "      <td>48.5377</td>\n",
       "      <td>9.2734</td>\n",
       "      <td>20081202</td>\n",
       "      <td></td>\n",
       "      <td>Metzingen</td>\n",
       "    </tr>\n",
       "  </tbody>\n",
       "</table>\n",
       "</div>"
      ],
      "text/plain": [
       "   Stations_id  Stationshoehe  Geogr.Breite  Geogr.Laenge  von_datum  \\\n",
       "0         3278          350.0       48.5348        9.2889   19240620   \n",
       "1         3278          362.0       48.5318        9.2789   19900401   \n",
       "2         3278          370.0       48.5301        9.3161   20030101   \n",
       "3         3278          354.0       48.5377        9.2734   20081202   \n",
       "\n",
       "  bis_datum Stationsname  \n",
       "0  19900331    Metzingen  \n",
       "1  20021231    Metzingen  \n",
       "2  20080610    Metzingen  \n",
       "3              Metzingen  "
      ]
     },
     "execution_count": 3,
     "metadata": {},
     "output_type": "execute_result"
    }
   ],
   "source": [
    "# read text file into pandas DataFrame\n",
    "df_geo = pd.read_table('Metadaten_Geographie_03278.txt', delimiter=';')\n",
    "df_geo.head()"
   ]
  },
  {
   "cell_type": "code",
   "execution_count": 4,
   "metadata": {},
   "outputs": [
    {
     "name": "stdout",
     "output_type": "stream",
     "text": [
      "Distance between Bosch plant and weather station: 11.073371450430095 km.\n"
     ]
    }
   ],
   "source": [
    "# variables with long/lat coordinates of Bosch plant (given in questions) and weather station (contained in df above)\n",
    "bosch_coords = (48.49524, 9.13782)\n",
    "# using the latest \"Geogr.Breite/.Laenge\" vom df.loc[[3]]\n",
    "station_coords = (48.5377,  9.2734)\n",
    "# For comparison purposes of result with a suitable formula, the calculation of a geopy package function is used as reference\n",
    "comp_airdistance = geopy.distance.distance(bosch_coords, station_coords).km\n",
    "print(f\"Distance between Bosch plant and weather station: {geopy.distance.distance(bosch_coords, station_coords).km} km.\")"
   ]
  },
  {
   "cell_type": "code",
   "execution_count": 5,
   "metadata": {},
   "outputs": [
    {
     "name": "stdout",
     "output_type": "stream",
     "text": [
      "Distance between Bosch plant and weather station: 11.05 km\n",
      "Computed distance with geopy is: 11.07 km\n"
     ]
    }
   ],
   "source": [
    "# approximate radius of earth in km\n",
    "R = 6373.0\n",
    "\n",
    "# using radians function from math module\n",
    "Bosch_lat = radians(48.49524)\n",
    "Bosch_lon = radians(9.13782)\n",
    "Wstation_lat = radians(48.5377)\n",
    "Wstation_lon = radians(9.2734)\n",
    "\n",
    "# compute longitude and latitude distance between Bosch plant and weather station\n",
    "distance_lon = Wstation_lon - Bosch_lon\n",
    "distance_lat = Wstation_lat - Bosch_lat\n",
    "\n",
    "# use of formula found on stackoverflow\n",
    "# source: https://stackoverflow.com/questions/19412462/getting-distance-between-two-points-based-on-latitude-longitude\n",
    "a = sin(distance_lat / 2)**2 + cos(Bosch_lat) * cos(Wstation_lat) * sin(distance_lon / 2)**2\n",
    "c = 2 * atan2(sqrt(a), sqrt(1 - a))\n",
    "distance = R * c\n",
    "\n",
    "# Compare computed distance of formula and computed distance with geopy\n",
    "print(f\"Distance between Bosch plant and weather station: {distance:.2f} km\")\n",
    "print(f\"Computed distance with geopy is: {comp_airdistance:.02f} km\")\n"
   ]
  },
  {
   "cell_type": "markdown",
   "metadata": {},
   "source": [
    "Now read the file ``produkt_tu_stunde_20090401_20211231_03278.txt`` contained in the archive with Python and answer the following questions. The available columns are:\n",
    "* ``STATIONS_ID``: not relevant\n",
    "* ``MESS_DATUM``: date and time of measurement\n",
    "* ``QN_9``: not relevant\n",
    "* ``TT_TU`` air temperature in °C\n",
    "* ``RF_TU`` relative humidity in %\n",
    "* ````: not relevant\n",
    "\n",
    "Missing values in ``TT_TU`` and ``RF_TU`` are encoded as ``-999``.\n",
    "\n",
    "#### (2) Describe the general properties of the dataset. This could be, among others:\n",
    "* number of samples, missing values, ...\n",
    "* measures of central tendency\n",
    "* measures of variability (or spread)\n",
    "* correlation measures\n",
    "\n",
    "... that make sense in the given context."
   ]
  },
  {
   "cell_type": "code",
   "execution_count": 6,
   "metadata": {},
   "outputs": [],
   "source": [
    "# read text file into pandas DataFrame\n",
    "df = pd.read_table('produkt_tu_stunde_20090401_20211231_03278.txt', delimiter=';')"
   ]
  },
  {
   "cell_type": "code",
   "execution_count": 7,
   "metadata": {},
   "outputs": [
    {
     "data": {
      "text/plain": [
       "Index(['STATIONS_ID', 'MESS_DATUM', 'QN_9', 'TT_TU', 'RF_TU', 'eor'], dtype='object')"
      ]
     },
     "execution_count": 7,
     "metadata": {},
     "output_type": "execute_result"
    }
   ],
   "source": [
    "# get columns\n",
    "df.columns"
   ]
  },
  {
   "cell_type": "code",
   "execution_count": 8,
   "metadata": {},
   "outputs": [
    {
     "data": {
      "text/html": [
       "<div>\n",
       "<style scoped>\n",
       "    .dataframe tbody tr th:only-of-type {\n",
       "        vertical-align: middle;\n",
       "    }\n",
       "\n",
       "    .dataframe tbody tr th {\n",
       "        vertical-align: top;\n",
       "    }\n",
       "\n",
       "    .dataframe thead th {\n",
       "        text-align: right;\n",
       "    }\n",
       "</style>\n",
       "<table border=\"1\" class=\"dataframe\">\n",
       "  <thead>\n",
       "    <tr style=\"text-align: right;\">\n",
       "      <th></th>\n",
       "      <th>MESS_DATUM</th>\n",
       "      <th>TT_TU</th>\n",
       "      <th>RF_TU</th>\n",
       "    </tr>\n",
       "  </thead>\n",
       "  <tbody>\n",
       "    <tr>\n",
       "      <th>0</th>\n",
       "      <td>2009040100</td>\n",
       "      <td>4.3</td>\n",
       "      <td>81.0</td>\n",
       "    </tr>\n",
       "    <tr>\n",
       "      <th>1</th>\n",
       "      <td>2009040101</td>\n",
       "      <td>3.2</td>\n",
       "      <td>84.0</td>\n",
       "    </tr>\n",
       "    <tr>\n",
       "      <th>2</th>\n",
       "      <td>2009040102</td>\n",
       "      <td>2.2</td>\n",
       "      <td>88.0</td>\n",
       "    </tr>\n",
       "    <tr>\n",
       "      <th>3</th>\n",
       "      <td>2009040103</td>\n",
       "      <td>1.6</td>\n",
       "      <td>89.0</td>\n",
       "    </tr>\n",
       "    <tr>\n",
       "      <th>4</th>\n",
       "      <td>2009040104</td>\n",
       "      <td>1.2</td>\n",
       "      <td>92.0</td>\n",
       "    </tr>\n",
       "  </tbody>\n",
       "</table>\n",
       "</div>"
      ],
      "text/plain": [
       "   MESS_DATUM  TT_TU  RF_TU\n",
       "0  2009040100    4.3   81.0\n",
       "1  2009040101    3.2   84.0\n",
       "2  2009040102    2.2   88.0\n",
       "3  2009040103    1.6   89.0\n",
       "4  2009040104    1.2   92.0"
      ]
     },
     "execution_count": 8,
     "metadata": {},
     "output_type": "execute_result"
    }
   ],
   "source": [
    "# deleting irrelevant columns\n",
    "df = df.drop(columns=['STATIONS_ID', 'QN_9', 'eor'])\n",
    "df.head()"
   ]
  },
  {
   "cell_type": "code",
   "execution_count": 9,
   "metadata": {},
   "outputs": [
    {
     "name": "stdout",
     "output_type": "stream",
     "text": [
      "(111792, 3)\n",
      "<class 'pandas.core.frame.DataFrame'>\n",
      "RangeIndex: 111792 entries, 0 to 111791\n",
      "Data columns (total 3 columns):\n",
      " #   Column      Non-Null Count   Dtype  \n",
      "---  ------      --------------   -----  \n",
      " 0   MESS_DATUM  111792 non-null  int64  \n",
      " 1   TT_TU       111792 non-null  float64\n",
      " 2   RF_TU       111792 non-null  float64\n",
      "dtypes: float64(2), int64(1)\n",
      "memory usage: 2.6 MB\n",
      "None\n"
     ]
    }
   ],
   "source": [
    "# the dataset has 111 792 rows and 3 columns\n",
    "print(df.shape)\n",
    "# display 111 792 rows and 3 columns with type float and integer\n",
    "print(df.info())"
   ]
  },
  {
   "cell_type": "code",
   "execution_count": 10,
   "metadata": {},
   "outputs": [
    {
     "name": "stdout",
     "output_type": "stream",
     "text": [
      "Mean MESS_DATUM    2.015184e+09\n",
      "TT_TU         1.031012e+01\n",
      "RF_TU         7.363792e+01\n",
      "dtype: float64, Median MESS_DATUM    2.015082e+09\n",
      "TT_TU         1.070000e+01\n",
      "RF_TU         7.900000e+01\n",
      "dtype: float64\n"
     ]
    }
   ],
   "source": [
    "# insights on central tendency of the quantitative data\n",
    "print(f\"Mean {df.mean()}, Median {df.median()}\")\n",
    "# to compute mode doesn't make sense in this context since there are no categorical variables"
   ]
  },
  {
   "cell_type": "code",
   "execution_count": 11,
   "metadata": {},
   "outputs": [
    {
     "data": {
      "text/html": [
       "<div>\n",
       "<style scoped>\n",
       "    .dataframe tbody tr th:only-of-type {\n",
       "        vertical-align: middle;\n",
       "    }\n",
       "\n",
       "    .dataframe tbody tr th {\n",
       "        vertical-align: top;\n",
       "    }\n",
       "\n",
       "    .dataframe thead th {\n",
       "        text-align: right;\n",
       "    }\n",
       "</style>\n",
       "<table border=\"1\" class=\"dataframe\">\n",
       "  <thead>\n",
       "    <tr style=\"text-align: right;\">\n",
       "      <th></th>\n",
       "      <th>count</th>\n",
       "      <th>mean</th>\n",
       "      <th>std</th>\n",
       "      <th>min</th>\n",
       "      <th>25%</th>\n",
       "      <th>50%</th>\n",
       "      <th>75%</th>\n",
       "      <th>max</th>\n",
       "    </tr>\n",
       "  </thead>\n",
       "  <tbody>\n",
       "    <tr>\n",
       "      <th>TT_TU</th>\n",
       "      <td>111712.0</td>\n",
       "      <td>10.860865</td>\n",
       "      <td>8.204760</td>\n",
       "      <td>-18.4</td>\n",
       "      <td>4.6</td>\n",
       "      <td>10.7</td>\n",
       "      <td>16.7</td>\n",
       "      <td>37.1</td>\n",
       "    </tr>\n",
       "    <tr>\n",
       "      <th>RF_TU</th>\n",
       "      <td>111712.0</td>\n",
       "      <td>74.406062</td>\n",
       "      <td>18.841315</td>\n",
       "      <td>11.0</td>\n",
       "      <td>62.0</td>\n",
       "      <td>79.0</td>\n",
       "      <td>90.0</td>\n",
       "      <td>100.0</td>\n",
       "    </tr>\n",
       "  </tbody>\n",
       "</table>\n",
       "</div>"
      ],
      "text/plain": [
       "          count       mean        std   min   25%   50%   75%    max\n",
       "TT_TU  111712.0  10.860865   8.204760 -18.4   4.6  10.7  16.7   37.1\n",
       "RF_TU  111712.0  74.406062  18.841315  11.0  62.0  79.0  90.0  100.0"
      ]
     },
     "execution_count": 11,
     "metadata": {},
     "output_type": "execute_result"
    }
   ],
   "source": [
    "# dropping missing values that are encoded as -999\n",
    "df_new = df[(df.TT_TU != -999) & (df.RF_TU != -999)]\n",
    "# get an overview of the distribution of the temperature data (Standard Deviation, Interquartile range)\n",
    "df_new[['TT_TU', 'RF_TU']].describe().transpose()"
   ]
  },
  {
   "cell_type": "code",
   "execution_count": 12,
   "metadata": {},
   "outputs": [
    {
     "name": "stdout",
     "output_type": "stream",
     "text": [
      "MESS_DATUM    1.355412e+13\n",
      "TT_TU         6.731808e+01\n",
      "RF_TU         3.549952e+02\n",
      "dtype: float64\n"
     ]
    }
   ],
   "source": [
    "# compute variance of df\n",
    "print(df_new.var())"
   ]
  },
  {
   "cell_type": "code",
   "execution_count": 13,
   "metadata": {},
   "outputs": [
    {
     "name": "stdout",
     "output_type": "stream",
     "text": [
      "The time range of this dataset is (2009040100, 2021123123)\n"
     ]
    }
   ],
   "source": [
    "# time range of dataset from 01-04-2009 to 23-12-2021\n",
    "print(f'The time range of this dataset is {df_new.MESS_DATUM.min(), df_new.MESS_DATUM.max()}')"
   ]
  },
  {
   "cell_type": "code",
   "execution_count": 14,
   "metadata": {},
   "outputs": [
    {
     "name": "stderr",
     "output_type": "stream",
     "text": [
      "C:\\Anaconda\\lib\\site-packages\\ipykernel_launcher.py:3: SettingWithCopyWarning: \n",
      "A value is trying to be set on a copy of a slice from a DataFrame.\n",
      "Try using .loc[row_indexer,col_indexer] = value instead\n",
      "\n",
      "See the caveats in the documentation: https://pandas.pydata.org/pandas-docs/stable/user_guide/indexing.html#returning-a-view-versus-a-copy\n",
      "  This is separate from the ipykernel package so we can avoid doing imports until\n",
      "C:\\Anaconda\\lib\\site-packages\\ipykernel_launcher.py:4: SettingWithCopyWarning: \n",
      "A value is trying to be set on a copy of a slice from a DataFrame.\n",
      "Try using .loc[row_indexer,col_indexer] = value instead\n",
      "\n",
      "See the caveats in the documentation: https://pandas.pydata.org/pandas-docs/stable/user_guide/indexing.html#returning-a-view-versus-a-copy\n",
      "  after removing the cwd from sys.path.\n",
      "C:\\Anaconda\\lib\\site-packages\\ipykernel_launcher.py:5: SettingWithCopyWarning: \n",
      "A value is trying to be set on a copy of a slice from a DataFrame.\n",
      "Try using .loc[row_indexer,col_indexer] = value instead\n",
      "\n",
      "See the caveats in the documentation: https://pandas.pydata.org/pandas-docs/stable/user_guide/indexing.html#returning-a-view-versus-a-copy\n",
      "  \"\"\"\n"
     ]
    },
    {
     "name": "stdout",
     "output_type": "stream",
     "text": [
      "   MESS_DATUM  TT_TU  RF_TU  year  month  day     date\n",
      "0  2009040100    4.3   81.0  2009      4    1  2009-04\n",
      "1  2009040101    3.2   84.0  2009      4    1  2009-04\n",
      "2  2009040102    2.2   88.0  2009      4    1  2009-04\n",
      "3  2009040103    1.6   89.0  2009      4    1  2009-04\n",
      "4  2009040104    1.2   92.0  2009      4    1  2009-04\n"
     ]
    },
    {
     "name": "stderr",
     "output_type": "stream",
     "text": [
      "C:\\Anaconda\\lib\\site-packages\\ipykernel_launcher.py:6: SettingWithCopyWarning: \n",
      "A value is trying to be set on a copy of a slice from a DataFrame.\n",
      "Try using .loc[row_indexer,col_indexer] = value instead\n",
      "\n",
      "See the caveats in the documentation: https://pandas.pydata.org/pandas-docs/stable/user_guide/indexing.html#returning-a-view-versus-a-copy\n",
      "  \n"
     ]
    }
   ],
   "source": [
    "# performing datetime conversions on column 'MESS_DATUM' for better readability\n",
    "dates = pd.to_datetime(df_new['MESS_DATUM'], format='%Y%m%d%H')\n",
    "df_new['year'] = dates.dt.year\n",
    "df_new['month'] = dates.dt.month\n",
    "df_new['day'] = dates.dt.day\n",
    "df_new['date'] = dates.dt.to_period('M').dt.strftime('%Y-%m')\n",
    "print(df_new.head())"
   ]
  },
  {
   "cell_type": "code",
   "execution_count": 15,
   "metadata": {},
   "outputs": [
    {
     "name": "stdout",
     "output_type": "stream",
     "text": [
      "The time range of this dataset is ('2009-04', '2021-12')\n"
     ]
    }
   ],
   "source": [
    "# time range of dataset\n",
    "print(f'The time range of this dataset is {df_new.date.min(), df_new.date.max()}')"
   ]
  },
  {
   "cell_type": "code",
   "execution_count": 16,
   "metadata": {},
   "outputs": [
    {
     "name": "stdout",
     "output_type": "stream",
     "text": [
      "            MESS_DATUM     TT_TU     RF_TU      year     month       day\n",
      "MESS_DATUM    1.000000  0.009841 -0.040361  0.999957 -0.033148  0.000206\n",
      "TT_TU         0.009841  1.000000 -0.569439  0.008518  0.141750  0.006813\n",
      "RF_TU        -0.040361 -0.569439  1.000000 -0.041809  0.157762 -0.015756\n",
      "year          0.999957  0.008518 -0.041809  1.000000 -0.042430 -0.000124\n",
      "month        -0.033148  0.141750  0.157762 -0.042430  1.000000  0.009789\n",
      "day           0.000206  0.006813 -0.015756 -0.000124  0.009789  1.000000\n"
     ]
    }
   ],
   "source": [
    "# check correlation among columns\n",
    "correlations = df_new.corr()\n",
    "print(correlations)"
   ]
  },
  {
   "cell_type": "code",
   "execution_count": 17,
   "metadata": {},
   "outputs": [
    {
     "name": "stdout",
     "output_type": "stream",
     "text": [
      "MESS_DATUM    1.000000\n",
      "TT_TU         0.009841\n",
      "RF_TU        -0.040361\n",
      "year          0.999957\n",
      "month        -0.033148\n",
      "day           0.000206\n",
      "Name: MESS_DATUM, dtype: float64\n"
     ]
    }
   ],
   "source": [
    "print(correlations['MESS_DATUM'])"
   ]
  },
  {
   "cell_type": "code",
   "execution_count": 18,
   "metadata": {},
   "outputs": [
    {
     "data": {
      "image/png": "[encoded data removed]",
      "text/plain": [
       "<Figure size 432x288 with 2 Axes>"
      ]
     },
     "metadata": {
      "needs_background": "light"
     },
     "output_type": "display_data"
    }
   ],
   "source": [
    "# visually display correlations in heatmap using seaborn\n",
    "%matplotlib inline\n",
    "sns.heatmap(correlations)\n",
    "plt.show()"
   ]
  },
  {
   "cell_type": "markdown",
   "metadata": {},
   "source": [
    "#### (3) Compute the minimum, maximum and average temperature in January 2017.\n",
    "Collecting the temperature of January 2017 and computing the min, max and mean temperature of the month."
   ]
  },
  {
   "cell_type": "code",
   "execution_count": 19,
   "metadata": {},
   "outputs": [
    {
     "name": "stdout",
     "output_type": "stream",
     "text": [
      "Minimum temperature: -15.2, maximum temperature: 8.8 and average temperature: -2.64032258064516\n"
     ]
    }
   ],
   "source": [
    "# create dataframe for January 2017 to compute minimum, maximum and average temperature\n",
    "df_temp = df_new[(df_new.date == '2017-01')]\n",
    "print(f\"Minimum temperature: {df_temp['TT_TU'].min()}, maximum temperature: {df_temp['TT_TU'].max()} and average temperature: {df_temp['TT_TU'].mean()}\")"
   ]
  },
  {
   "cell_type": "markdown",
   "metadata": {},
   "source": [
    "#### (4) Assess the temperature development in the data. \n",
    "Can you find signs of climate change? Perform aggregations, visualizations to show your findings."
   ]
  },
  {
   "cell_type": "code",
   "execution_count": 20,
   "metadata": {},
   "outputs": [
    {
     "data": {
      "text/plain": [
       "<AxesSubplot:xlabel='year', ylabel='TT_TU'>"
      ]
     },
     "execution_count": 20,
     "metadata": {},
     "output_type": "execute_result"
    },
    {
     "data": {
      "image/png": "[encoded data removed]",
      "text/plain": [
       "<Figure size 1728x720 with 1 Axes>"
      ]
     },
     "metadata": {
      "needs_background": "light"
     },
     "output_type": "display_data"
    }
   ],
   "source": [
    "# Boxplot of yearly air temperature\n",
    "fig, ax = plt.subplots(figsize=(24,10))\n",
    "sns.boxplot(x = df_new['year'], \n",
    "                y = df_new['TT_TU'], \n",
    "                ax = ax)"
   ]
  },
  {
   "cell_type": "code",
   "execution_count": 21,
   "metadata": {},
   "outputs": [
    {
     "data": {
      "text/plain": [
       "<AxesSubplot:xlabel='year', ylabel='RF_TU'>"
      ]
     },
     "execution_count": 21,
     "metadata": {},
     "output_type": "execute_result"
    },
    {
     "data": {
      "image/png": "[encoded data removed]",
      "text/plain": [
       "<Figure size 1728x720 with 1 Axes>"
      ]
     },
     "metadata": {
      "needs_background": "light"
     },
     "output_type": "display_data"
    }
   ],
   "source": [
    "# Boxplot of yearly relative humiditiy in % \n",
    "fig, ax = plt.subplots(figsize=(24,10))\n",
    "sns.boxplot(x = df_new['year'], \n",
    "                y = df_new['RF_TU'], \n",
    "                ax = ax)"
   ]
  },
  {
   "cell_type": "code",
   "execution_count": 22,
   "metadata": {},
   "outputs": [
    {
     "data": {
      "text/plain": [
       "<AxesSubplot:xlabel='year', ylabel='TT_TU'>"
      ]
     },
     "execution_count": 22,
     "metadata": {},
     "output_type": "execute_result"
    },
    {
     "data": {
      "image/png": "[encoded data removed]",
      "text/plain": [
       "<Figure size 1728x720 with 1 Axes>"
      ]
     },
     "metadata": {
      "needs_background": "light"
     },
     "output_type": "display_data"
    }
   ],
   "source": [
    "# Boxplot of yearly air temperature in December\n",
    "dfDecember = df_new[(df_new.month == 12)]\n",
    "fig, ax = plt.subplots(figsize=(24,10))\n",
    "sns.boxplot(x = dfDecember['year'], \n",
    "                y = dfDecember['TT_TU'], \n",
    "                ax = ax)"
   ]
  },
  {
   "cell_type": "code",
   "execution_count": 23,
   "metadata": {},
   "outputs": [
    {
     "data": {
      "text/plain": [
       "<AxesSubplot:xlabel='year', ylabel='RF_TU'>"
      ]
     },
     "execution_count": 23,
     "metadata": {},
     "output_type": "execute_result"
    },
    {
     "data": {
      "image/png": "[encoded data removed]",
      "text/plain": [
       "<Figure size 1728x720 with 1 Axes>"
      ]
     },
     "metadata": {
      "needs_background": "light"
     },
     "output_type": "display_data"
    }
   ],
   "source": [
    "# aggregating the average of relative humidity in % in August per year between 2009-2021\n",
    "dfAugust = df_new[(df_new.month == 8)]\n",
    "fig, ax = plt.subplots(figsize=(24,10))\n",
    "sns.boxplot(x = dfAugust['year'], \n",
    "                y = dfAugust['RF_TU'], \n",
    "                ax = ax)"
   ]
  },
  {
   "cell_type": "code",
   "execution_count": 24,
   "metadata": {},
   "outputs": [
    {
     "data": {
      "text/html": [
       "<div>\n",
       "<style scoped>\n",
       "    .dataframe tbody tr th:only-of-type {\n",
       "        vertical-align: middle;\n",
       "    }\n",
       "\n",
       "    .dataframe tbody tr th {\n",
       "        vertical-align: top;\n",
       "    }\n",
       "\n",
       "    .dataframe thead th {\n",
       "        text-align: right;\n",
       "    }\n",
       "</style>\n",
       "<table border=\"1\" class=\"dataframe\">\n",
       "  <thead>\n",
       "    <tr style=\"text-align: right;\">\n",
       "      <th></th>\n",
       "      <th>year</th>\n",
       "      <th>month</th>\n",
       "      <th>TT_TU</th>\n",
       "    </tr>\n",
       "  </thead>\n",
       "  <tbody>\n",
       "    <tr>\n",
       "      <th>0</th>\n",
       "      <td>2009</td>\n",
       "      <td>4</td>\n",
       "      <td>12.335833</td>\n",
       "    </tr>\n",
       "    <tr>\n",
       "      <th>1</th>\n",
       "      <td>2009</td>\n",
       "      <td>5</td>\n",
       "      <td>15.631452</td>\n",
       "    </tr>\n",
       "    <tr>\n",
       "      <th>2</th>\n",
       "      <td>2009</td>\n",
       "      <td>6</td>\n",
       "      <td>16.669167</td>\n",
       "    </tr>\n",
       "    <tr>\n",
       "      <th>3</th>\n",
       "      <td>2009</td>\n",
       "      <td>7</td>\n",
       "      <td>19.129032</td>\n",
       "    </tr>\n",
       "    <tr>\n",
       "      <th>4</th>\n",
       "      <td>2009</td>\n",
       "      <td>8</td>\n",
       "      <td>19.740054</td>\n",
       "    </tr>\n",
       "    <tr>\n",
       "      <th>...</th>\n",
       "      <td>...</td>\n",
       "      <td>...</td>\n",
       "      <td>...</td>\n",
       "    </tr>\n",
       "    <tr>\n",
       "      <th>148</th>\n",
       "      <td>2021</td>\n",
       "      <td>8</td>\n",
       "      <td>17.581048</td>\n",
       "    </tr>\n",
       "    <tr>\n",
       "      <th>149</th>\n",
       "      <td>2021</td>\n",
       "      <td>9</td>\n",
       "      <td>16.135139</td>\n",
       "    </tr>\n",
       "    <tr>\n",
       "      <th>150</th>\n",
       "      <td>2021</td>\n",
       "      <td>10</td>\n",
       "      <td>9.899059</td>\n",
       "    </tr>\n",
       "    <tr>\n",
       "      <th>151</th>\n",
       "      <td>2021</td>\n",
       "      <td>11</td>\n",
       "      <td>3.857222</td>\n",
       "    </tr>\n",
       "    <tr>\n",
       "      <th>152</th>\n",
       "      <td>2021</td>\n",
       "      <td>12</td>\n",
       "      <td>4.113575</td>\n",
       "    </tr>\n",
       "  </tbody>\n",
       "</table>\n",
       "<p>153 rows × 3 columns</p>\n",
       "</div>"
      ],
      "text/plain": [
       "     year  month      TT_TU\n",
       "0    2009      4  12.335833\n",
       "1    2009      5  15.631452\n",
       "2    2009      6  16.669167\n",
       "3    2009      7  19.129032\n",
       "4    2009      8  19.740054\n",
       "..    ...    ...        ...\n",
       "148  2021      8  17.581048\n",
       "149  2021      9  16.135139\n",
       "150  2021     10   9.899059\n",
       "151  2021     11   3.857222\n",
       "152  2021     12   4.113575\n",
       "\n",
       "[153 rows x 3 columns]"
      ]
     },
     "execution_count": 24,
     "metadata": {},
     "output_type": "execute_result"
    }
   ],
   "source": [
    "# aggregating the average temperature per month and year between '2009-04' and '2021-12'\n",
    "df_avgTemp= df_new.groupby(['year','month'])['TT_TU'].agg('mean').reset_index()\n",
    "df_avgTemp"
   ]
  },
  {
   "cell_type": "code",
   "execution_count": 25,
   "metadata": {},
   "outputs": [
    {
     "data": {
      "text/html": [
       "<div>\n",
       "<style scoped>\n",
       "    .dataframe tbody tr th:only-of-type {\n",
       "        vertical-align: middle;\n",
       "    }\n",
       "\n",
       "    .dataframe tbody tr th {\n",
       "        vertical-align: top;\n",
       "    }\n",
       "\n",
       "    .dataframe thead th {\n",
       "        text-align: right;\n",
       "    }\n",
       "</style>\n",
       "<table border=\"1\" class=\"dataframe\">\n",
       "  <thead>\n",
       "    <tr style=\"text-align: right;\">\n",
       "      <th></th>\n",
       "      <th>year</th>\n",
       "      <th>TT_TU</th>\n",
       "    </tr>\n",
       "  </thead>\n",
       "  <tbody>\n",
       "    <tr>\n",
       "      <th>0</th>\n",
       "      <td>2009</td>\n",
       "      <td>13.071091</td>\n",
       "    </tr>\n",
       "    <tr>\n",
       "      <th>1</th>\n",
       "      <td>2010</td>\n",
       "      <td>9.156769</td>\n",
       "    </tr>\n",
       "    <tr>\n",
       "      <th>2</th>\n",
       "      <td>2011</td>\n",
       "      <td>10.882325</td>\n",
       "    </tr>\n",
       "    <tr>\n",
       "      <th>3</th>\n",
       "      <td>2012</td>\n",
       "      <td>10.448509</td>\n",
       "    </tr>\n",
       "    <tr>\n",
       "      <th>4</th>\n",
       "      <td>2013</td>\n",
       "      <td>9.828048</td>\n",
       "    </tr>\n",
       "    <tr>\n",
       "      <th>5</th>\n",
       "      <td>2014</td>\n",
       "      <td>11.380696</td>\n",
       "    </tr>\n",
       "    <tr>\n",
       "      <th>6</th>\n",
       "      <td>2015</td>\n",
       "      <td>11.232237</td>\n",
       "    </tr>\n",
       "    <tr>\n",
       "      <th>7</th>\n",
       "      <td>2016</td>\n",
       "      <td>10.523019</td>\n",
       "    </tr>\n",
       "    <tr>\n",
       "      <th>8</th>\n",
       "      <td>2017</td>\n",
       "      <td>10.705297</td>\n",
       "    </tr>\n",
       "    <tr>\n",
       "      <th>9</th>\n",
       "      <td>2018</td>\n",
       "      <td>11.656553</td>\n",
       "    </tr>\n",
       "    <tr>\n",
       "      <th>10</th>\n",
       "      <td>2019</td>\n",
       "      <td>11.155228</td>\n",
       "    </tr>\n",
       "    <tr>\n",
       "      <th>11</th>\n",
       "      <td>2020</td>\n",
       "      <td>11.528394</td>\n",
       "    </tr>\n",
       "    <tr>\n",
       "      <th>12</th>\n",
       "      <td>2021</td>\n",
       "      <td>10.161918</td>\n",
       "    </tr>\n",
       "  </tbody>\n",
       "</table>\n",
       "</div>"
      ],
      "text/plain": [
       "    year      TT_TU\n",
       "0   2009  13.071091\n",
       "1   2010   9.156769\n",
       "2   2011  10.882325\n",
       "3   2012  10.448509\n",
       "4   2013   9.828048\n",
       "5   2014  11.380696\n",
       "6   2015  11.232237\n",
       "7   2016  10.523019\n",
       "8   2017  10.705297\n",
       "9   2018  11.656553\n",
       "10  2019  11.155228\n",
       "11  2020  11.528394\n",
       "12  2021  10.161918"
      ]
     },
     "execution_count": 25,
     "metadata": {},
     "output_type": "execute_result"
    }
   ],
   "source": [
    "# aggregating the average temperature per year between '2009-04' and '2021-12'\n",
    "df_avgTempYear = df_new.groupby('year')['TT_TU'].agg('mean').reset_index()\n",
    "df_avgTempYear"
   ]
  },
  {
   "cell_type": "code",
   "execution_count": 26,
   "metadata": {},
   "outputs": [
    {
     "data": {
      "text/html": [
       "<div>\n",
       "<style scoped>\n",
       "    .dataframe tbody tr th:only-of-type {\n",
       "        vertical-align: middle;\n",
       "    }\n",
       "\n",
       "    .dataframe tbody tr th {\n",
       "        vertical-align: top;\n",
       "    }\n",
       "\n",
       "    .dataframe thead th {\n",
       "        text-align: right;\n",
       "    }\n",
       "</style>\n",
       "<table border=\"1\" class=\"dataframe\">\n",
       "  <thead>\n",
       "    <tr style=\"text-align: right;\">\n",
       "      <th></th>\n",
       "      <th>date</th>\n",
       "      <th>TT_TU</th>\n",
       "    </tr>\n",
       "  </thead>\n",
       "  <tbody>\n",
       "    <tr>\n",
       "      <th>0</th>\n",
       "      <td>2009-04</td>\n",
       "      <td>12.335833</td>\n",
       "    </tr>\n",
       "    <tr>\n",
       "      <th>1</th>\n",
       "      <td>2009-05</td>\n",
       "      <td>15.631452</td>\n",
       "    </tr>\n",
       "    <tr>\n",
       "      <th>2</th>\n",
       "      <td>2009-06</td>\n",
       "      <td>16.669167</td>\n",
       "    </tr>\n",
       "    <tr>\n",
       "      <th>3</th>\n",
       "      <td>2009-07</td>\n",
       "      <td>19.129032</td>\n",
       "    </tr>\n",
       "    <tr>\n",
       "      <th>4</th>\n",
       "      <td>2009-08</td>\n",
       "      <td>19.740054</td>\n",
       "    </tr>\n",
       "  </tbody>\n",
       "</table>\n",
       "</div>"
      ],
      "text/plain": [
       "      date      TT_TU\n",
       "0  2009-04  12.335833\n",
       "1  2009-05  15.631452\n",
       "2  2009-06  16.669167\n",
       "3  2009-07  19.129032\n",
       "4  2009-08  19.740054"
      ]
     },
     "execution_count": 26,
     "metadata": {},
     "output_type": "execute_result"
    }
   ],
   "source": [
    "# aggregating the average temperature aggregated per month and year between '2009-04' and '2021-12'\n",
    "df_avgTempDate = df_new.groupby('date')['TT_TU'].agg('mean').reset_index('date')\n",
    "df_avgTempDate.head()"
   ]
  },
  {
   "cell_type": "code",
   "execution_count": 27,
   "metadata": {},
   "outputs": [
    {
     "data": {
      "image/png": "[encoded data removed]",
      "text/plain": [
       "<Figure size 432x288 with 1 Axes>"
      ]
     },
     "metadata": {
      "needs_background": "light"
     },
     "output_type": "display_data"
    }
   ],
   "source": [
    "# display average temperature in December between 2009 and 2021\n",
    "df_avgTempDec = df_avgTemp[(df_avgTemp.month == 12)]\n",
    "plt.title(\"Yearly Average Temperatures in December 2009-2021\")\n",
    "plt.xlabel(\"year\")\n",
    "plt.ylabel(\"degrees C +/- from average\")\n",
    "plt.bar(df_avgTempDec['year'], df_avgTempDec['TT_TU'], color=\"blue\")\n",
    "plt.show()\n",
    "# even though there are certain outliers in 2010 and 2016, the average temperature in December is rising with a maximum of nearly 6 degrees in average in 2015"
   ]
  },
  {
   "cell_type": "code",
   "execution_count": 28,
   "metadata": {},
   "outputs": [
    {
     "data": {
      "image/png": "[encoded data removed]",
      "text/plain": [
       "<Figure size 432x288 with 1 Axes>"
      ]
     },
     "metadata": {
      "needs_background": "light"
     },
     "output_type": "display_data"
    }
   ],
   "source": [
    "# display average temperature in February between 2009 and 2021\n",
    "df_avgTempFeb = df_avgTemp[(df_avgTemp.month == 2)]\n",
    "plt.title(\"Yearly Average Temperatures in February 2009-2021\")\n",
    "plt.xlabel(\"year\")\n",
    "plt.ylabel(\"degrees C +/- from average\")\n",
    "plt.bar(df_avgTempFeb['year'], df_avgTempFeb['TT_TU'], color=\"grey\")\n",
    "plt.show()\n",
    "# except of years 2012,2013,2015 and 2018, there is a temperature rise to nearly 5 degrees in average for February"
   ]
  },
  {
   "cell_type": "code",
   "execution_count": 29,
   "metadata": {},
   "outputs": [
    {
     "data": {
      "image/png": "[encoded data removed]",
      "text/plain": [
       "<Figure size 432x288 with 1 Axes>"
      ]
     },
     "metadata": {
      "needs_background": "light"
     },
     "output_type": "display_data"
    }
   ],
   "source": [
    "# display average temperature in February between 2009 and 2021\n",
    "df_avgTempOct = df_avgTemp[(df_avgTemp.month == 10)]\n",
    "plt.title(\"Yearly Average Temperatures in October 2009-2021\")\n",
    "plt.xlabel(\"year\")\n",
    "plt.ylabel(\"degrees C +/- from average\")\n",
    "plt.bar(df_avgTempOct['year'], df_avgTempOct['TT_TU'], color=\"brown\")\n",
    "plt.show()"
   ]
  },
  {
   "cell_type": "code",
   "execution_count": 30,
   "metadata": {},
   "outputs": [
    {
     "data": {
      "image/png": "[encoded data removed]",
      "text/plain": [
       "<Figure size 432x288 with 1 Axes>"
      ]
     },
     "metadata": {
      "needs_background": "light"
     },
     "output_type": "display_data"
    }
   ],
   "source": [
    "# display average temperature in June between 2009 and 2001\n",
    "df_avgTempJun = df_avgTemp[(df_avgTemp.month == 6)]\n",
    "plt.title(\"Temperature in June\")\n",
    "plt.xlabel(\"year\")\n",
    "plt.ylabel(\"degrees F +/- from average\")\n",
    "plt.bar(df_avgTempJun['year'], df_avgTempJun['TT_TU'], color='green')\n",
    "plt.show()\n",
    "# increase in temperature can be identified"
   ]
  },
  {
   "cell_type": "code",
   "execution_count": 31,
   "metadata": {},
   "outputs": [
    {
     "data": {
      "image/png": "[encoded data removed]",
      "text/plain": [
       "<Figure size 600x300 with 1 Axes>"
      ]
     },
     "metadata": {
      "needs_background": "light"
     },
     "output_type": "display_data"
    }
   ],
   "source": [
    "# plotting time series to check if a temperature change can be better displayed as in bar plots above\n",
    "def plot_df(df, x, y, title=\"Temp\", xlabel='Date', ylabel='Temperature', dpi=100):\n",
    "    plt.figure(figsize=(6,3), dpi=dpi)\n",
    "    plt.plot(x, y, color='tab:red')\n",
    "    plt.gca().set(title=title, xlabel=xlabel, ylabel=ylabel)\n",
    "    plt.show()\n",
    "\n",
    "plot_df(df_new, df_new['year'], df_new['TT_TU'], title='Timeseries of temperature over the years.')   "
   ]
  },
  {
   "cell_type": "code",
   "execution_count": null,
   "metadata": {},
   "outputs": [],
   "source": []
  }
 ],
 "metadata": {
  "kernelspec": {
   "display_name": "Python 3",
   "language": "python",
   "name": "python3"
  },
  "language_info": {
   "codemirror_mode": {
    "name": "ipython",
    "version": 3
   },
   "file_extension": ".py",
   "mimetype": "text/x-python",
   "name": "python",
   "nbconvert_exporter": "python",
   "pygments_lexer": "ipython3",
   "version": "3.7.6"
  }
 },
 "nbformat": 4,
 "nbformat_minor": 4
}
